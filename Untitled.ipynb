{
 "cells": [],
 "metadata": {},
 "nbformat": 4,
 "nbformat_minor": 5
}
import matplotlib.pyplot as plt
import numpy as np

# --- Sayyoralar nomlari va orbitaning o'rtacha radiuslari (AU birligida) ---
planets = {
    'Merkuriy': 0.39,
    'Venera': 0.72,
    'Yer': 1.00,
    'Mars': 1.52,
    'Yupiter': 5.20,
    'Saturn': 9.58,
    'Uran': 19.22,
    'Neptun': 30.05
}

# --- Grafik tayyorlash ---
fig, ax = plt.subplots(figsize=(8, 8))
ax.set_title("🌞 Quyosh sistemasidagi sayyoralar orbitasi", fontsize=14)
ax.set_aspect('equal', 'box')
ax.set_facecolor('black')

# --- Quyoshni markazga joylashtirish ---
ax.scatter(0, 0, color='yellow', s=300, label='Quyosh', edgecolor='orange')

# --- Har bir sayyora uchun orbitani chizish ---
theta = np.linspace(0, 2 * np.pi, 500)
colors = ['gray', 'orange', 'blue', 'red', 'brown', 'gold', 'lightblue', 'darkblue']

for (planet, r), c in zip(planets.items(), colors):
    x = r * np.cos(theta)
    y = r * np.sin(theta)
    ax.plot(x, y, color=c, linestyle='--', linewidth=1)
    ax.scatter(r, 0, color=c, label=planet)  # sayyora joylashuvi

# --- Ko‘rinishni sozlash ---
ax.legend(loc='upper right', fontsize=8, frameon=False)
ax.set_xlabel("Masofa (Astronomik birliklarda)")
ax.set_ylabel("Masofa (Astronomik birliklarda)")
ax.grid(True, color='white', alpha=0.2)

plt.show()
